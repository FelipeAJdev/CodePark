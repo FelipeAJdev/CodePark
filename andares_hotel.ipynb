{
  "nbformat": 4,
  "nbformat_minor": 0,
  "metadata": {
    "colab": {
      "provenance": [],
      "authorship_tag": "ABX9TyOcEmfElCQS6fEICVjnzqgv",
      "include_colab_link": true
    },
    "kernelspec": {
      "name": "python3",
      "display_name": "Python 3"
    },
    "language_info": {
      "name": "python"
    }
  },
  "cells": [
    {
      "cell_type": "markdown",
      "metadata": {
        "id": "view-in-github",
        "colab_type": "text"
      },
      "source": [
        "<a href=\"https://colab.research.google.com/github/FelipeAJdev/CodePark/blob/main/andares_hotel.ipynb\" target=\"_parent\"><img src=\"https://colab.research.google.com/assets/colab-badge.svg\" alt=\"Open In Colab\"/></a>"
      ]
    },
    {
      "cell_type": "code",
      "execution_count": 67,
      "metadata": {
        "colab": {
          "base_uri": "https://localhost:8080/"
        },
        "id": "aJazmEXs1h7I",
        "outputId": "d7f348ba-671e-4c6a-9566-a2ca57bcf360"
      },
      "outputs": [
        {
          "output_type": "stream",
          "name": "stdout",
          "text": [
            "1\n",
            "2\n",
            "3\n",
            "4\n",
            "5\n",
            "6\n",
            "7\n",
            "8\n",
            "9\n",
            "10\n",
            "11\n",
            "12\n",
            "14\n",
            "15\n",
            "16\n",
            "17\n",
            "18\n",
            "19\n",
            "20\n"
          ]
        }
      ],
      "source": [
        "\n",
        "for i in range(1, 21):\n",
        "    if i != 13:\n",
        "        print(i)"
      ]
    },
    {
      "cell_type": "code",
      "source": [
        "int = i\n",
        "caractere = \"º\"\n",
        "\n",
        "for i in range(1, 21, ):\n",
        "  if i != 13: \n",
        "    numero_do_andar = str(i) + caractere; \n",
        "    print(numero_do_andar,\"andar\")"
      ],
      "metadata": {
        "colab": {
          "base_uri": "https://localhost:8080/"
        },
        "id": "7QXP4iphO6Ck",
        "outputId": "1aa148db-f615-47ba-dd47-cc3c18795757"
      },
      "execution_count": 65,
      "outputs": [
        {
          "output_type": "stream",
          "name": "stdout",
          "text": [
            "1º andar\n",
            "2º andar\n",
            "3º andar\n",
            "4º andar\n",
            "5º andar\n",
            "6º andar\n",
            "7º andar\n",
            "8º andar\n",
            "9º andar\n",
            "10º andar\n",
            "11º andar\n",
            "12º andar\n",
            "14º andar\n",
            "15º andar\n",
            "16º andar\n",
            "17º andar\n",
            "18º andar\n",
            "19º andar\n",
            "20º andar\n"
          ]
        }
      ]
    },
    {
      "cell_type": "code",
      "source": [
        "int = i\n",
        "caractere = \"º\"\n",
        "\n",
        "for i in range(20, 0, -1):\n",
        "  if i != 13: \n",
        "    numero_do_andar = str(i) + caractere; \n",
        "    print(numero_do_andar,\"andar\")\n"
      ],
      "metadata": {
        "colab": {
          "base_uri": "https://localhost:8080/"
        },
        "id": "_3qEqEGFBOTS",
        "outputId": "5b06a971-81ce-4711-f96a-85c58cc2b557"
      },
      "execution_count": 66,
      "outputs": [
        {
          "output_type": "stream",
          "name": "stdout",
          "text": [
            "20º andar\n",
            "19º andar\n",
            "18º andar\n",
            "17º andar\n",
            "16º andar\n",
            "15º andar\n",
            "14º andar\n",
            "12º andar\n",
            "11º andar\n",
            "10º andar\n",
            "9º andar\n",
            "8º andar\n",
            "7º andar\n",
            "6º andar\n",
            "5º andar\n",
            "4º andar\n",
            "3º andar\n",
            "2º andar\n",
            "1º andar\n"
          ]
        }
      ]
    }
  ]
}