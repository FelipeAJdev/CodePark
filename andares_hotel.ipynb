{
  "nbformat": 4,
  "nbformat_minor": 0,
  "metadata": {
    "colab": {
      "provenance": [],
      "authorship_tag": "ABX9TyOcEmfElCQS6fEICVjnzqgv",
      "include_colab_link": true
    },
    "kernelspec": {
      "name": "python3",
      "display_name": "Python 3"
    },
    "language_info": {
      "name": "python"
    }
  },
  "cells": [
    {
      "cell_type": "markdown",
      "metadata": {
        "id": "view-in-github",
        "colab_type": "text"
      },
      "source": [
        "<a href=\"https://colab.research.google.com/github/FelipeAJdev/CodePark/blob/main/andares_hotel.ipynb\" target=\"_parent\"><img src=\"https://colab.research.google.com/assets/colab-badge.svg\" alt=\"Open In Colab\"/></a>"
      ]
    },
    {
      "cell_type": "code",
      "execution_count": null,
      "metadata": {
        "id": "aJazmEXs1h7I"
      },
      "outputs": [],
      "source": [
        "\n",
        "for i in range(1, 21):\n",
        "    if i != 13:\n",
        "        print(i)"
      ]
    },
    {
      "cell_type": "code",
      "source": [
        "int = i\n",
        "caractere = \"º\"\n",
        "\n",
        "for i in range(1, 21, ):\n",
        "  if i != 13: \n",
        "    numero_do_andar = str(i) + caractere; \n",
        "    print(numero_do_andar,\"andar\")"
      ],
      "metadata": {
        "id": "7QXP4iphO6Ck"
      },
      "execution_count": null,
      "outputs": []
    },
    {
      "cell_type": "code",
      "source": [
        "int = i\n",
        "caractere = \"º\"\n",
        "\n",
        "for i in range(20, 0, -1):\n",
        "  if i != 13: \n",
        "    numero_do_andar = str(i) + caractere; \n",
        "    print(numero_do_andar,\"andar\")\n"
      ],
      "metadata": {
        "id": "_3qEqEGFBOTS"
      },
      "execution_count": null,
      "outputs": []
    }
  ]
}