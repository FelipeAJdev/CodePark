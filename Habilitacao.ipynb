{
  "nbformat": 4,
  "nbformat_minor": 0,
  "metadata": {
    "colab": {
      "provenance": [],
      "authorship_tag": "ABX9TyMITvwJ9ffwhM/JBObT4REr",
      "include_colab_link": true
    },
    "kernelspec": {
      "name": "python3",
      "display_name": "Python 3"
    },
    "language_info": {
      "name": "python"
    }
  },
  "cells": [
    {
      "cell_type": "markdown",
      "metadata": {
        "id": "view-in-github",
        "colab_type": "text"
      },
      "source": [
        "<a href=\"https://colab.research.google.com/github/FelipeAJdev/CodePark/blob/main/Habilitacao.ipynb\" target=\"_parent\"><img src=\"https://colab.research.google.com/assets/colab-badge.svg\" alt=\"Open In Colab\"/></a>"
      ]
    },
    {
      "cell_type": "code",
      "execution_count": null,
      "metadata": {
        "id": "CiC5iZREFGLw"
      },
      "outputs": [],
      "source": [
        "# Solicita ao usuário as informações do veículo\n",
        "quantidade_rodas = int(input(\"Informe a quantidade de rodas do veículo: \"))\n",
        "peso_bruto = float(input(\"Informe o peso bruto do veículo em kg: \"))\n",
        "quantidade_pessoas = int(input(\"Informe a quantidade de pessoas no veículo: \"))\n",
        "\n",
        "# Verifica qual é a melhor categoria de habilitação para o veículo\n",
        "if quantidade_rodas == 2 or quantidade_rodas == 3:\n",
        "    categoria_habilitacao = \"A\"\n",
        "elif quantidade_rodas == 4 and peso_bruto <= 3500 and quantidade_pessoas <= 8:\n",
        "    categoria_habilitacao = \"B\"\n",
        "elif quantidade_rodas >= 4 and peso_bruto > 3500 and peso_bruto <= 6000:\n",
        "    categoria_habilitacao = \"C\"\n",
        "elif quantidade_rodas >= 4 and quantidade_pessoas > 8:\n",
        "    categoria_habilitacao = \"D\"\n",
        "elif quantidade_rodas >= 4 and peso_bruto > 6000:\n",
        "    categoria_habilitacao = \"E\"\n",
        "else:\n",
        "    categoria_habilitacao = \"Não foi possível determinar a categoria de habilitação para este veículo.\"\n",
        "\n",
        "# Exibe a categoria de habilitação do veículo\n",
        "print(\"A categoria de habilitação para este veículo é:\", categoria_habilitacao)"
      ]
    }
  ]
}