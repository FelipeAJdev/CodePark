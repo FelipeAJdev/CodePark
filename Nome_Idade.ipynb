{
  "nbformat": 4,
  "nbformat_minor": 0,
  "metadata": {
    "colab": {
      "provenance": [],
      "authorship_tag": "ABX9TyMH1MnqFOX/mqux+rk0fpBc",
      "include_colab_link": true
    },
    "kernelspec": {
      "name": "python3",
      "display_name": "Python 3"
    },
    "language_info": {
      "name": "python"
    }
  },
  "cells": [
    {
      "cell_type": "markdown",
      "metadata": {
        "id": "view-in-github",
        "colab_type": "text"
      },
      "source": [
        "<a href=\"https://colab.research.google.com/github/FelipeAJdev/CodePark/blob/main/Nome_Idade.ipynb\" target=\"_parent\"><img src=\"https://colab.research.google.com/assets/colab-badge.svg\" alt=\"Open In Colab\"/></a>"
      ]
    },
    {
      "cell_type": "markdown",
      "source": [
        " Desenvolva um programa que recebe do usuário nome completo e ano de nascimento que seja entre 1922 e 2021.\n",
        "A partir dessas informações, o sistema mostrará o nome do usuário e a idade que completou, ou completará, no ano atual (2022).\n",
        "\n",
        " Caso o usuário não digite um número ou apareça um inválido no campo do ano, o sistema informará o erro e continuará perguntando até que um valor correto seja preenchido.\n"
      ],
      "metadata": {
        "id": "co2YIXTJCkhA"
      }
    },
    {
      "cell_type": "code",
      "execution_count": null,
      "metadata": {
        "id": "_EBA-sAfBn5b"
      },
      "outputs": [],
      "source": [
        "\n",
        "while True:\n",
        "    nome_completo = input(\"Digite seu nome completo: \")\n",
        "    ano_nascimento_str = input(\"Digite seu ano de nascimento (entre 1922 e 2022): \")\n",
        "\n",
        "    try:\n",
        "        ano_nascimento = int(ano_nascimento_str)\n",
        "        if 1922 <= ano_nascimento <= 2022:\n",
        "            break\n",
        "        else:\n",
        "            print(\"Ano de nascimento inválido. Tente novamente.\")\n",
        "    except ValueError:\n",
        "        print(\"Ano de nascimento inválido. Tente novamente.\")\n",
        "\n",
        "ano_atual = 2023\n",
        "idade = ano_atual - ano_nascimento\n",
        "print(f\"Olá, {nome_completo}! Você tem {idade} anos.\")"
      ]
    }
  ]
}