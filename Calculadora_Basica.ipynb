{
  "nbformat": 4,
  "nbformat_minor": 0,
  "metadata": {
    "colab": {
      "provenance": [],
      "authorship_tag": "ABX9TyNCGJZGPNoRnNfW1crPxGbo",
      "include_colab_link": true
    },
    "kernelspec": {
      "name": "python3",
      "display_name": "Python 3"
    },
    "language_info": {
      "name": "python"
    }
  },
  "cells": [
    {
      "cell_type": "markdown",
      "metadata": {
        "id": "view-in-github",
        "colab_type": "text"
      },
      "source": [
        "<a href=\"https://colab.research.google.com/github/FelipeAJdev/CodePark/blob/main/Calculadora_Basica.ipynb\" target=\"_parent\"><img src=\"https://colab.research.google.com/assets/colab-badge.svg\" alt=\"Open In Colab\"/></a>"
      ]
    },
    {
      "cell_type": "code",
      "execution_count": null,
      "metadata": {
        "id": "Kpd0RuxV3KPZ"
      },
      "outputs": [],
      "source": [
        "def calculadora():\n",
        "    while True:\n",
        "        print(\"Selecione a operação desejada:\")\n",
        "        print(\"+\")\n",
        "        print(\"-\")\n",
        "        print(\"*\")\n",
        "        print(\"/\")\n",
        "        print(\"Para sair pressione 0 \")\n",
        "\n",
        "        escolha = input()\n",
        "\n",
        "        if escolha == '0':\n",
        "            print(\"Saindo...\")\n",
        "            break\n",
        "\n",
        "        elif escolha in ['+', '-', '*', '/']:\n",
        "            num1 = float(input(\"Insira o primeiro valor: \"))\n",
        "            num2 = float(input(\"Insira o segundo valor: \"))\n",
        "\n",
        "            if escolha == '+':\n",
        "                resultado = num1 + num2\n",
        "                print(\"Resultado: \", resultado)\n",
        "\n",
        "            elif escolha == '-':\n",
        "                resultado = num1 - num2\n",
        "                print(\"Resultado: \", resultado)\n",
        "\n",
        "            elif escolha == '*':\n",
        "                resultado = num1 * num2\n",
        "                print(\"Resultado: \", resultado)\n",
        "\n",
        "            elif escolha == '/':\n",
        "                if num2 == 0:\n",
        "                    print(\"Não é possível dividir por zero.\")\n",
        "                else:\n",
        "                    resultado = num1 / num2\n",
        "                    print(\"Resultado: \", resultado)\n",
        "\n",
        "        else:\n",
        "            print(\"Essa opção não existe. Tente novamente.\\n\")\n",
        "\n",
        "calculadora()"
      ]
    }
  ]
}