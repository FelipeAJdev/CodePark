{
  "nbformat": 4,
  "nbformat_minor": 0,
  "metadata": {
    "colab": {
      "provenance": [],
      "authorship_tag": "ABX9TyNoBTRZ1+5gGU1RV6xq6GyV",
      "include_colab_link": true
    },
    "kernelspec": {
      "name": "python3",
      "display_name": "Python 3"
    },
    "language_info": {
      "name": "python"
    }
  },
  "cells": [
    {
      "cell_type": "markdown",
      "metadata": {
        "id": "view-in-github",
        "colab_type": "text"
      },
      "source": [
        "<a href=\"https://colab.research.google.com/github/FelipeAJdev/CodePark/blob/main/Funcao_Calculadora.ipynb\" target=\"_parent\"><img src=\"https://colab.research.google.com/assets/colab-badge.svg\" alt=\"Open In Colab\"/></a>"
      ]
    },
    {
      "cell_type": "markdown",
      "source": [
        "Faça uma função calculadora de dois números com três parâmetros: os dois primeiros serão os números da operação e o terceiro será a entrada que definirá a operação a ser executada. Considera a seguinte definição:\n",
        "1. Soma\n",
        "2. Subtração\n",
        "3. Multiplicação\n",
        "4. Divisão\n",
        "\n",
        "Caso seja inserido um número de operação que não exista, o resultado deverá ser 0."
      ],
      "metadata": {
        "id": "c30uzMvYnQh-"
      }
    },
    {
      "cell_type": "code",
      "source": [
        "def calculadora(var1, oper, var2):\n",
        "   \n",
        "    if oper == '+':\n",
        "        resultado = var1 + var2\n",
        "    elif oper == '-':\n",
        "        resultado = var1 - var2\n",
        "    elif oper == '*':\n",
        "        resultado = var1 * var2\n",
        "    elif oper == '/':\n",
        "        resultado = var1 / var2\n",
        "    else:\n",
        "        resultado = 0\n",
        "        print('Operação inválido.')\n",
        "    \n",
        "    return resultado\n"
      ],
      "metadata": {
        "id": "wXdNgzcmpvZe"
      },
      "execution_count": 11,
      "outputs": []
    }
  ]
}