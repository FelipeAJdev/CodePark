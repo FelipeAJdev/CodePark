{
  "nbformat": 4,
  "nbformat_minor": 0,
  "metadata": {
    "colab": {
      "provenance": [],
      "authorship_tag": "ABX9TyO5rMo3ta1I80dD3yRLvxOO",
      "include_colab_link": true
    },
    "kernelspec": {
      "name": "python3",
      "display_name": "Python 3"
    },
    "language_info": {
      "name": "python"
    }
  },
  "cells": [
    {
      "cell_type": "markdown",
      "metadata": {
        "id": "view-in-github",
        "colab_type": "text"
      },
      "source": [
        "<a href=\"https://colab.research.google.com/github/FelipeAJdev/CodePark/blob/main/andares_hotelV2.ipynb\" target=\"_parent\"><img src=\"https://colab.research.google.com/assets/colab-badge.svg\" alt=\"Open In Colab\"/></a>"
      ]
    },
    {
      "cell_type": "markdown",
      "source": [
        "Precisamos imprimir um número para cada andar de um hotel de 20 andares. Porém, o dono do hotel é supersticioso e optou por não ter um 13ro andar.\n",
        "\n",
        "\n",
        "> Escreva um código que imprima todos os números exceto o número 13.\n",
        "Escreva mais dois códigos que resolvam o mesmo problema, mas dessa vez usando os outros dois tipos de laços de repetição aprendidos.\n",
        "\n",
        "```\n",
        "# Como desafio, imprima eles em ordem decrescente (20, 19, 18...)\n",
        "```\n",
        "\n"
      ],
      "metadata": {
        "id": "Zhmyx2eRV4An"
      }
    },
    {
      "cell_type": "markdown",
      "source": [
        "# Sem Laços de repetição"
      ],
      "metadata": {
        "id": "NmgClnRl3nB8"
      }
    },
    {
      "cell_type": "code",
      "source": [
        "print(str(1)+\"º\",\"andar\")\n",
        "print(str(2)+\"º\",\"andar\")\n",
        "print(str(3)+\"º\",\"andar\")\n",
        "print(str(4)+\"º\",\"andar\")\n",
        "print(str(5)+\"º\",\"andar\")\n",
        "print(str(6)+\"º\",\"andar\")\n",
        "print(str(7)+\"º\",\"andar\")\n",
        "print(str(8)+\"º\",\"andar\")\n",
        "print(str(9)+\"º\",\"andar\")\n",
        "print(str(10)+\"º\",\"andar\")\n",
        "print(str(11)+\"º\",\"andar\")\n",
        "print(str(12)+\"º\",\"andar\")\n",
        "print(str(14)+\"º\",\"andar\")\n",
        "print(str(15)+\"º\",\"andar\")\n",
        "print(str(16)+\"º\",\"andar\")\n",
        "print(str(17)+\"º\",\"andar\")\n",
        "print(str(18)+\"º\",\"andar\")\n",
        "print(str(19)+\"º\",\"andar\")\n",
        "print(str(20)+\"º\",\"andar\")"
      ],
      "metadata": {
        "id": "Zan4cSiP2i3I"
      },
      "execution_count": null,
      "outputs": []
    },
    {
      "cell_type": "markdown",
      "source": [
        "# for/if"
      ],
      "metadata": {
        "id": "Sr_GYs3119Wi"
      }
    },
    {
      "cell_type": "code",
      "source": [
        "int = i\n",
        "caractere = \"º\"\n",
        "\n",
        "for i in range(1, 21, ):\n",
        "  if i != 13: \n",
        "    numero_do_andar = str(i) + caractere; \n",
        "    print(numero_do_andar,\"andar\")"
      ],
      "metadata": {
        "colab": {
          "base_uri": "https://localhost:8080/"
        },
        "id": "7QXP4iphO6Ck",
        "outputId": "fac2b48a-5ebd-49fd-db90-ae3b680939d0"
      },
      "execution_count": 101,
      "outputs": [
        {
          "output_type": "stream",
          "name": "stdout",
          "text": [
            "1º andar\n",
            "2º andar\n",
            "3º andar\n",
            "4º andar\n",
            "5º andar\n",
            "6º andar\n",
            "7º andar\n",
            "8º andar\n",
            "9º andar\n",
            "10º andar\n",
            "11º andar\n",
            "12º andar\n",
            "14º andar\n",
            "15º andar\n",
            "16º andar\n",
            "17º andar\n",
            "18º andar\n",
            "19º andar\n",
            "20º andar\n"
          ]
        }
      ]
    },
    {
      "cell_type": "code",
      "source": [
        "int = i\n",
        "caractere = \"º\"\n",
        "\n",
        "for i in range(20, 0, -1):\n",
        "  if i != 13: \n",
        "    numero_do_andar = str(i) + caractere; \n",
        "    print(numero_do_andar,\"andar\")\n"
      ],
      "metadata": {
        "id": "_3qEqEGFBOTS"
      },
      "execution_count": null,
      "outputs": []
    },
    {
      "cell_type": "markdown",
      "source": [
        "# While/if"
      ],
      "metadata": {
        "id": "jHBBnS9ez2fP"
      }
    },
    {
      "cell_type": "code",
      "source": [
        "i = 1\n",
        "while i <= 20:\n",
        "    if i != 13:\n",
        "        print(str(i) + \"º\",\"andar\")\n",
        "    i += 1"
      ],
      "metadata": {
        "id": "U09U8jPdtsnq"
      },
      "execution_count": null,
      "outputs": []
    },
    {
      "cell_type": "code",
      "source": [
        "int = 20\n",
        "caractere = \"º\"\n",
        "\n",
        "while int > 0:\n",
        "  if int != 13:\n",
        "    numero_do_andar = str(int) + caractere\n",
        "    print(numero_do_andar, \"andar\")\n",
        "  int -= 1"
      ],
      "metadata": {
        "id": "2-n6AHmyhNIp"
      },
      "execution_count": null,
      "outputs": []
    }
  ]
}